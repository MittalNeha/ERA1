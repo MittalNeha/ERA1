{
 "cells": [
  {
   "cell_type": "code",
   "execution_count": 8,
   "metadata": {
    "ExecuteTime": {
     "end_time": "2023-09-01T09:18:10.121318128Z",
     "start_time": "2023-09-01T09:18:10.001935138Z"
    },
    "collapsed": false,
    "jupyter": {
     "outputs_hidden": false
    }
   },
   "outputs": [
    {
     "name": "stdout",
     "output_type": "stream",
     "text": [
      "/home/e189236/MyWork/EVA/ERA1/S15\r\n"
     ]
    }
   ],
   "source": [
    "!pwd"
   ]
  },
  {
   "cell_type": "code",
   "execution_count": 9,
   "metadata": {
    "ExecuteTime": {
     "end_time": "2023-09-01T09:18:20.924511164Z",
     "start_time": "2023-09-01T09:18:10.123907271Z"
    },
    "collapsed": false,
    "jupyter": {
     "outputs_hidden": false
    }
   },
   "outputs": [
    {
     "name": "stdout",
     "output_type": "stream",
     "text": [
      "Requirement already satisfied: torchtext in /home/e189236/MyWork/EVA/ERA1/venv/lib/python3.10/site-packages (0.15.2)\r\n",
      "Requirement already satisfied: tqdm in /home/e189236/MyWork/EVA/ERA1/venv/lib/python3.10/site-packages (from torchtext) (4.65.0)\r\n",
      "Requirement already satisfied: requests in /home/e189236/MyWork/EVA/ERA1/venv/lib/python3.10/site-packages (from torchtext) (2.31.0)\r\n",
      "Requirement already satisfied: torch==2.0.1 in /home/e189236/MyWork/EVA/ERA1/venv/lib/python3.10/site-packages (from torchtext) (2.0.1)\r\n",
      "Requirement already satisfied: numpy in /home/e189236/MyWork/EVA/ERA1/venv/lib/python3.10/site-packages (from torchtext) (1.24.3)\r\n",
      "Requirement already satisfied: torchdata==0.6.1 in /home/e189236/MyWork/EVA/ERA1/venv/lib/python3.10/site-packages (from torchtext) (0.6.1)\r\n",
      "Requirement already satisfied: filelock in /home/e189236/MyWork/EVA/ERA1/venv/lib/python3.10/site-packages (from torch==2.0.1->torchtext) (3.12.2)\r\n",
      "Requirement already satisfied: typing-extensions in /home/e189236/MyWork/EVA/ERA1/venv/lib/python3.10/site-packages (from torch==2.0.1->torchtext) (4.5.0)\r\n",
      "Requirement already satisfied: sympy in /home/e189236/MyWork/EVA/ERA1/venv/lib/python3.10/site-packages (from torch==2.0.1->torchtext) (1.12)\r\n",
      "Requirement already satisfied: networkx in /home/e189236/MyWork/EVA/ERA1/venv/lib/python3.10/site-packages (from torch==2.0.1->torchtext) (3.1)\r\n",
      "Requirement already satisfied: jinja2 in /home/e189236/MyWork/EVA/ERA1/venv/lib/python3.10/site-packages (from torch==2.0.1->torchtext) (3.1.2)\r\n",
      "Requirement already satisfied: nvidia-cuda-nvrtc-cu11==11.7.99 in /home/e189236/MyWork/EVA/ERA1/venv/lib/python3.10/site-packages (from torch==2.0.1->torchtext) (11.7.99)\r\n",
      "Requirement already satisfied: nvidia-cuda-runtime-cu11==11.7.99 in /home/e189236/MyWork/EVA/ERA1/venv/lib/python3.10/site-packages (from torch==2.0.1->torchtext) (11.7.99)\r\n",
      "Requirement already satisfied: nvidia-cuda-cupti-cu11==11.7.101 in /home/e189236/MyWork/EVA/ERA1/venv/lib/python3.10/site-packages (from torch==2.0.1->torchtext) (11.7.101)\r\n",
      "Requirement already satisfied: nvidia-cudnn-cu11==8.5.0.96 in /home/e189236/MyWork/EVA/ERA1/venv/lib/python3.10/site-packages (from torch==2.0.1->torchtext) (8.5.0.96)\r\n",
      "Requirement already satisfied: nvidia-cublas-cu11==11.10.3.66 in /home/e189236/MyWork/EVA/ERA1/venv/lib/python3.10/site-packages (from torch==2.0.1->torchtext) (11.10.3.66)\r\n",
      "Requirement already satisfied: nvidia-cufft-cu11==10.9.0.58 in /home/e189236/MyWork/EVA/ERA1/venv/lib/python3.10/site-packages (from torch==2.0.1->torchtext) (10.9.0.58)\r\n",
      "Requirement already satisfied: nvidia-curand-cu11==10.2.10.91 in /home/e189236/MyWork/EVA/ERA1/venv/lib/python3.10/site-packages (from torch==2.0.1->torchtext) (10.2.10.91)\r\n",
      "Requirement already satisfied: nvidia-cusolver-cu11==11.4.0.1 in /home/e189236/MyWork/EVA/ERA1/venv/lib/python3.10/site-packages (from torch==2.0.1->torchtext) (11.4.0.1)\r\n",
      "Requirement already satisfied: nvidia-cusparse-cu11==11.7.4.91 in /home/e189236/MyWork/EVA/ERA1/venv/lib/python3.10/site-packages (from torch==2.0.1->torchtext) (11.7.4.91)\r\n",
      "Requirement already satisfied: nvidia-nccl-cu11==2.14.3 in /home/e189236/MyWork/EVA/ERA1/venv/lib/python3.10/site-packages (from torch==2.0.1->torchtext) (2.14.3)\r\n",
      "Requirement already satisfied: nvidia-nvtx-cu11==11.7.91 in /home/e189236/MyWork/EVA/ERA1/venv/lib/python3.10/site-packages (from torch==2.0.1->torchtext) (11.7.91)\r\n",
      "Requirement already satisfied: triton==2.0.0 in /home/e189236/MyWork/EVA/ERA1/venv/lib/python3.10/site-packages (from torch==2.0.1->torchtext) (2.0.0)\r\n",
      "Requirement already satisfied: urllib3>=1.25 in /home/e189236/MyWork/EVA/ERA1/venv/lib/python3.10/site-packages (from torchdata==0.6.1->torchtext) (1.26.16)\r\n",
      "Requirement already satisfied: setuptools in /home/e189236/MyWork/EVA/ERA1/venv/lib/python3.10/site-packages (from nvidia-cublas-cu11==11.10.3.66->torch==2.0.1->torchtext) (65.5.1)\r\n",
      "Requirement already satisfied: wheel in /home/e189236/MyWork/EVA/ERA1/venv/lib/python3.10/site-packages (from nvidia-cublas-cu11==11.10.3.66->torch==2.0.1->torchtext) (0.38.4)\r\n",
      "Requirement already satisfied: cmake in /home/e189236/MyWork/EVA/ERA1/venv/lib/python3.10/site-packages (from triton==2.0.0->torch==2.0.1->torchtext) (3.26.4)\r\n",
      "Requirement already satisfied: lit in /home/e189236/MyWork/EVA/ERA1/venv/lib/python3.10/site-packages (from triton==2.0.0->torch==2.0.1->torchtext) (16.0.6)\r\n",
      "Requirement already satisfied: charset-normalizer<4,>=2 in /home/e189236/MyWork/EVA/ERA1/venv/lib/python3.10/site-packages (from requests->torchtext) (3.1.0)\r\n",
      "Requirement already satisfied: idna<4,>=2.5 in /home/e189236/MyWork/EVA/ERA1/venv/lib/python3.10/site-packages (from requests->torchtext) (3.4)\r\n",
      "Requirement already satisfied: certifi>=2017.4.17 in /home/e189236/MyWork/EVA/ERA1/venv/lib/python3.10/site-packages (from requests->torchtext) (2023.5.7)\r\n",
      "Requirement already satisfied: MarkupSafe>=2.0 in /home/e189236/MyWork/EVA/ERA1/venv/lib/python3.10/site-packages (from jinja2->torch==2.0.1->torchtext) (2.1.3)\r\n",
      "Requirement already satisfied: mpmath>=0.19 in /home/e189236/MyWork/EVA/ERA1/venv/lib/python3.10/site-packages (from sympy->torch==2.0.1->torchtext) (1.3.0)\r\n",
      "\r\n",
      "\u001b[1m[\u001b[0m\u001b[34;49mnotice\u001b[0m\u001b[1;39;49m]\u001b[0m\u001b[39;49m A new release of pip is available: \u001b[0m\u001b[31;49m23.1.2\u001b[0m\u001b[39;49m -> \u001b[0m\u001b[32;49m23.2.1\u001b[0m\r\n",
      "\u001b[1m[\u001b[0m\u001b[34;49mnotice\u001b[0m\u001b[1;39;49m]\u001b[0m\u001b[39;49m To update, run: \u001b[0m\u001b[32;49mpip install --upgrade pip\u001b[0m\r\n",
      "Requirement already satisfied: transformers in /home/e189236/MyWork/EVA/ERA1/venv/lib/python3.10/site-packages (4.32.1)\r\n",
      "Requirement already satisfied: filelock in /home/e189236/MyWork/EVA/ERA1/venv/lib/python3.10/site-packages (from transformers) (3.12.2)\r\n",
      "Requirement already satisfied: huggingface-hub<1.0,>=0.15.1 in /home/e189236/MyWork/EVA/ERA1/venv/lib/python3.10/site-packages (from transformers) (0.16.4)\r\n",
      "Requirement already satisfied: numpy>=1.17 in /home/e189236/MyWork/EVA/ERA1/venv/lib/python3.10/site-packages (from transformers) (1.24.3)\r\n",
      "Requirement already satisfied: packaging>=20.0 in /home/e189236/MyWork/EVA/ERA1/venv/lib/python3.10/site-packages (from transformers) (23.1)\r\n",
      "Requirement already satisfied: pyyaml>=5.1 in /home/e189236/MyWork/EVA/ERA1/venv/lib/python3.10/site-packages (from transformers) (6.0)\r\n",
      "Requirement already satisfied: regex!=2019.12.17 in /home/e189236/MyWork/EVA/ERA1/venv/lib/python3.10/site-packages (from transformers) (2023.8.8)\r\n",
      "Requirement already satisfied: requests in /home/e189236/MyWork/EVA/ERA1/venv/lib/python3.10/site-packages (from transformers) (2.31.0)\r\n",
      "Requirement already satisfied: tokenizers!=0.11.3,<0.14,>=0.11.1 in /home/e189236/MyWork/EVA/ERA1/venv/lib/python3.10/site-packages (from transformers) (0.13.3)\r\n",
      "Requirement already satisfied: safetensors>=0.3.1 in /home/e189236/MyWork/EVA/ERA1/venv/lib/python3.10/site-packages (from transformers) (0.3.3)\r\n",
      "Requirement already satisfied: tqdm>=4.27 in /home/e189236/MyWork/EVA/ERA1/venv/lib/python3.10/site-packages (from transformers) (4.65.0)\r\n",
      "Requirement already satisfied: fsspec in /home/e189236/MyWork/EVA/ERA1/venv/lib/python3.10/site-packages (from huggingface-hub<1.0,>=0.15.1->transformers) (2023.6.0)\r\n",
      "Requirement already satisfied: typing-extensions>=3.7.4.3 in /home/e189236/MyWork/EVA/ERA1/venv/lib/python3.10/site-packages (from huggingface-hub<1.0,>=0.15.1->transformers) (4.5.0)\r\n",
      "Requirement already satisfied: charset-normalizer<4,>=2 in /home/e189236/MyWork/EVA/ERA1/venv/lib/python3.10/site-packages (from requests->transformers) (3.1.0)\r\n",
      "Requirement already satisfied: idna<4,>=2.5 in /home/e189236/MyWork/EVA/ERA1/venv/lib/python3.10/site-packages (from requests->transformers) (3.4)\r\n",
      "Requirement already satisfied: urllib3<3,>=1.21.1 in /home/e189236/MyWork/EVA/ERA1/venv/lib/python3.10/site-packages (from requests->transformers) (1.26.16)\r\n",
      "Requirement already satisfied: certifi>=2017.4.17 in /home/e189236/MyWork/EVA/ERA1/venv/lib/python3.10/site-packages (from requests->transformers) (2023.5.7)\r\n",
      "\r\n",
      "\u001b[1m[\u001b[0m\u001b[34;49mnotice\u001b[0m\u001b[1;39;49m]\u001b[0m\u001b[39;49m A new release of pip is available: \u001b[0m\u001b[31;49m23.1.2\u001b[0m\u001b[39;49m -> \u001b[0m\u001b[32;49m23.2.1\u001b[0m\r\n",
      "\u001b[1m[\u001b[0m\u001b[34;49mnotice\u001b[0m\u001b[1;39;49m]\u001b[0m\u001b[39;49m To update, run: \u001b[0m\u001b[32;49mpip install --upgrade pip\u001b[0m\r\n",
      "Requirement already satisfied: torchmetrics in /home/e189236/MyWork/EVA/ERA1/venv/lib/python3.10/site-packages (1.1.1)\r\n",
      "Requirement already satisfied: numpy>1.20.0 in /home/e189236/MyWork/EVA/ERA1/venv/lib/python3.10/site-packages (from torchmetrics) (1.24.3)\r\n",
      "Requirement already satisfied: torch>=1.8.1 in /home/e189236/MyWork/EVA/ERA1/venv/lib/python3.10/site-packages (from torchmetrics) (2.0.1)\r\n",
      "Requirement already satisfied: lightning-utilities>=0.8.0 in /home/e189236/MyWork/EVA/ERA1/venv/lib/python3.10/site-packages (from torchmetrics) (0.9.0)\r\n",
      "Requirement already satisfied: packaging>=17.1 in /home/e189236/MyWork/EVA/ERA1/venv/lib/python3.10/site-packages (from lightning-utilities>=0.8.0->torchmetrics) (23.1)\r\n",
      "Requirement already satisfied: typing-extensions in /home/e189236/MyWork/EVA/ERA1/venv/lib/python3.10/site-packages (from lightning-utilities>=0.8.0->torchmetrics) (4.5.0)\r\n",
      "Requirement already satisfied: filelock in /home/e189236/MyWork/EVA/ERA1/venv/lib/python3.10/site-packages (from torch>=1.8.1->torchmetrics) (3.12.2)\r\n",
      "Requirement already satisfied: sympy in /home/e189236/MyWork/EVA/ERA1/venv/lib/python3.10/site-packages (from torch>=1.8.1->torchmetrics) (1.12)\r\n",
      "Requirement already satisfied: networkx in /home/e189236/MyWork/EVA/ERA1/venv/lib/python3.10/site-packages (from torch>=1.8.1->torchmetrics) (3.1)\r\n",
      "Requirement already satisfied: jinja2 in /home/e189236/MyWork/EVA/ERA1/venv/lib/python3.10/site-packages (from torch>=1.8.1->torchmetrics) (3.1.2)\r\n",
      "Requirement already satisfied: nvidia-cuda-nvrtc-cu11==11.7.99 in /home/e189236/MyWork/EVA/ERA1/venv/lib/python3.10/site-packages (from torch>=1.8.1->torchmetrics) (11.7.99)\r\n",
      "Requirement already satisfied: nvidia-cuda-runtime-cu11==11.7.99 in /home/e189236/MyWork/EVA/ERA1/venv/lib/python3.10/site-packages (from torch>=1.8.1->torchmetrics) (11.7.99)\r\n",
      "Requirement already satisfied: nvidia-cuda-cupti-cu11==11.7.101 in /home/e189236/MyWork/EVA/ERA1/venv/lib/python3.10/site-packages (from torch>=1.8.1->torchmetrics) (11.7.101)\r\n",
      "Requirement already satisfied: nvidia-cudnn-cu11==8.5.0.96 in /home/e189236/MyWork/EVA/ERA1/venv/lib/python3.10/site-packages (from torch>=1.8.1->torchmetrics) (8.5.0.96)\r\n",
      "Requirement already satisfied: nvidia-cublas-cu11==11.10.3.66 in /home/e189236/MyWork/EVA/ERA1/venv/lib/python3.10/site-packages (from torch>=1.8.1->torchmetrics) (11.10.3.66)\r\n",
      "Requirement already satisfied: nvidia-cufft-cu11==10.9.0.58 in /home/e189236/MyWork/EVA/ERA1/venv/lib/python3.10/site-packages (from torch>=1.8.1->torchmetrics) (10.9.0.58)\r\n",
      "Requirement already satisfied: nvidia-curand-cu11==10.2.10.91 in /home/e189236/MyWork/EVA/ERA1/venv/lib/python3.10/site-packages (from torch>=1.8.1->torchmetrics) (10.2.10.91)\r\n",
      "Requirement already satisfied: nvidia-cusolver-cu11==11.4.0.1 in /home/e189236/MyWork/EVA/ERA1/venv/lib/python3.10/site-packages (from torch>=1.8.1->torchmetrics) (11.4.0.1)\r\n",
      "Requirement already satisfied: nvidia-cusparse-cu11==11.7.4.91 in /home/e189236/MyWork/EVA/ERA1/venv/lib/python3.10/site-packages (from torch>=1.8.1->torchmetrics) (11.7.4.91)\r\n",
      "Requirement already satisfied: nvidia-nccl-cu11==2.14.3 in /home/e189236/MyWork/EVA/ERA1/venv/lib/python3.10/site-packages (from torch>=1.8.1->torchmetrics) (2.14.3)\r\n",
      "Requirement already satisfied: nvidia-nvtx-cu11==11.7.91 in /home/e189236/MyWork/EVA/ERA1/venv/lib/python3.10/site-packages (from torch>=1.8.1->torchmetrics) (11.7.91)\r\n",
      "Requirement already satisfied: triton==2.0.0 in /home/e189236/MyWork/EVA/ERA1/venv/lib/python3.10/site-packages (from torch>=1.8.1->torchmetrics) (2.0.0)\r\n",
      "Requirement already satisfied: setuptools in /home/e189236/MyWork/EVA/ERA1/venv/lib/python3.10/site-packages (from nvidia-cublas-cu11==11.10.3.66->torch>=1.8.1->torchmetrics) (65.5.1)\r\n",
      "Requirement already satisfied: wheel in /home/e189236/MyWork/EVA/ERA1/venv/lib/python3.10/site-packages (from nvidia-cublas-cu11==11.10.3.66->torch>=1.8.1->torchmetrics) (0.38.4)\r\n",
      "Requirement already satisfied: cmake in /home/e189236/MyWork/EVA/ERA1/venv/lib/python3.10/site-packages (from triton==2.0.0->torch>=1.8.1->torchmetrics) (3.26.4)\r\n",
      "Requirement already satisfied: lit in /home/e189236/MyWork/EVA/ERA1/venv/lib/python3.10/site-packages (from triton==2.0.0->torch>=1.8.1->torchmetrics) (16.0.6)\r\n",
      "Requirement already satisfied: MarkupSafe>=2.0 in /home/e189236/MyWork/EVA/ERA1/venv/lib/python3.10/site-packages (from jinja2->torch>=1.8.1->torchmetrics) (2.1.3)\r\n",
      "Requirement already satisfied: mpmath>=0.19 in /home/e189236/MyWork/EVA/ERA1/venv/lib/python3.10/site-packages (from sympy->torch>=1.8.1->torchmetrics) (1.3.0)\r\n",
      "\r\n",
      "\u001b[1m[\u001b[0m\u001b[34;49mnotice\u001b[0m\u001b[1;39;49m]\u001b[0m\u001b[39;49m A new release of pip is available: \u001b[0m\u001b[31;49m23.1.2\u001b[0m\u001b[39;49m -> \u001b[0m\u001b[32;49m23.2.1\u001b[0m\r\n",
      "\u001b[1m[\u001b[0m\u001b[34;49mnotice\u001b[0m\u001b[1;39;49m]\u001b[0m\u001b[39;49m To update, run: \u001b[0m\u001b[32;49mpip install --upgrade pip\u001b[0m\r\n",
      "Requirement already satisfied: tensorflow in /home/e189236/MyWork/EVA/ERA1/venv/lib/python3.10/site-packages (2.13.0)\r\n",
      "Requirement already satisfied: absl-py>=1.0.0 in /home/e189236/MyWork/EVA/ERA1/venv/lib/python3.10/site-packages (from tensorflow) (1.4.0)\r\n",
      "Requirement already satisfied: astunparse>=1.6.0 in /home/e189236/MyWork/EVA/ERA1/venv/lib/python3.10/site-packages (from tensorflow) (1.6.3)\r\n",
      "Requirement already satisfied: flatbuffers>=23.1.21 in /home/e189236/MyWork/EVA/ERA1/venv/lib/python3.10/site-packages (from tensorflow) (23.5.26)\r\n",
      "Requirement already satisfied: gast<=0.4.0,>=0.2.1 in /home/e189236/MyWork/EVA/ERA1/venv/lib/python3.10/site-packages (from tensorflow) (0.4.0)\r\n",
      "Requirement already satisfied: google-pasta>=0.1.1 in /home/e189236/MyWork/EVA/ERA1/venv/lib/python3.10/site-packages (from tensorflow) (0.2.0)\r\n",
      "Requirement already satisfied: grpcio<2.0,>=1.24.3 in /home/e189236/MyWork/EVA/ERA1/venv/lib/python3.10/site-packages (from tensorflow) (1.57.0)\r\n",
      "Requirement already satisfied: h5py>=2.9.0 in /home/e189236/MyWork/EVA/ERA1/venv/lib/python3.10/site-packages (from tensorflow) (3.9.0)\r\n",
      "Requirement already satisfied: keras<2.14,>=2.13.1 in /home/e189236/MyWork/EVA/ERA1/venv/lib/python3.10/site-packages (from tensorflow) (2.13.1)\r\n",
      "Requirement already satisfied: libclang>=13.0.0 in /home/e189236/MyWork/EVA/ERA1/venv/lib/python3.10/site-packages (from tensorflow) (16.0.6)\r\n",
      "Requirement already satisfied: numpy<=1.24.3,>=1.22 in /home/e189236/MyWork/EVA/ERA1/venv/lib/python3.10/site-packages (from tensorflow) (1.24.3)\r\n",
      "Requirement already satisfied: opt-einsum>=2.3.2 in /home/e189236/MyWork/EVA/ERA1/venv/lib/python3.10/site-packages (from tensorflow) (3.3.0)\r\n",
      "Requirement already satisfied: packaging in /home/e189236/MyWork/EVA/ERA1/venv/lib/python3.10/site-packages (from tensorflow) (23.1)\r\n",
      "Requirement already satisfied: protobuf!=4.21.0,!=4.21.1,!=4.21.2,!=4.21.3,!=4.21.4,!=4.21.5,<5.0.0dev,>=3.20.3 in /home/e189236/MyWork/EVA/ERA1/venv/lib/python3.10/site-packages (from tensorflow) (4.24.2)\r\n",
      "Requirement already satisfied: setuptools in /home/e189236/MyWork/EVA/ERA1/venv/lib/python3.10/site-packages (from tensorflow) (65.5.1)\r\n",
      "Requirement already satisfied: six>=1.12.0 in /home/e189236/MyWork/EVA/ERA1/venv/lib/python3.10/site-packages (from tensorflow) (1.16.0)\r\n",
      "Requirement already satisfied: tensorboard<2.14,>=2.13 in /home/e189236/MyWork/EVA/ERA1/venv/lib/python3.10/site-packages (from tensorflow) (2.13.0)\r\n",
      "Requirement already satisfied: tensorflow-estimator<2.14,>=2.13.0 in /home/e189236/MyWork/EVA/ERA1/venv/lib/python3.10/site-packages (from tensorflow) (2.13.0)\r\n",
      "Requirement already satisfied: termcolor>=1.1.0 in /home/e189236/MyWork/EVA/ERA1/venv/lib/python3.10/site-packages (from tensorflow) (2.3.0)\r\n",
      "Requirement already satisfied: typing-extensions<4.6.0,>=3.6.6 in /home/e189236/MyWork/EVA/ERA1/venv/lib/python3.10/site-packages (from tensorflow) (4.5.0)\r\n",
      "Requirement already satisfied: wrapt>=1.11.0 in /home/e189236/MyWork/EVA/ERA1/venv/lib/python3.10/site-packages (from tensorflow) (1.15.0)\r\n",
      "Requirement already satisfied: tensorflow-io-gcs-filesystem>=0.23.1 in /home/e189236/MyWork/EVA/ERA1/venv/lib/python3.10/site-packages (from tensorflow) (0.33.0)\r\n",
      "Requirement already satisfied: wheel<1.0,>=0.23.0 in /home/e189236/MyWork/EVA/ERA1/venv/lib/python3.10/site-packages (from astunparse>=1.6.0->tensorflow) (0.38.4)\r\n",
      "Requirement already satisfied: google-auth<3,>=1.6.3 in /home/e189236/MyWork/EVA/ERA1/venv/lib/python3.10/site-packages (from tensorboard<2.14,>=2.13->tensorflow) (2.22.0)\r\n",
      "Requirement already satisfied: google-auth-oauthlib<1.1,>=0.5 in /home/e189236/MyWork/EVA/ERA1/venv/lib/python3.10/site-packages (from tensorboard<2.14,>=2.13->tensorflow) (1.0.0)\r\n",
      "Requirement already satisfied: markdown>=2.6.8 in /home/e189236/MyWork/EVA/ERA1/venv/lib/python3.10/site-packages (from tensorboard<2.14,>=2.13->tensorflow) (3.4.4)\r\n",
      "Requirement already satisfied: requests<3,>=2.21.0 in /home/e189236/MyWork/EVA/ERA1/venv/lib/python3.10/site-packages (from tensorboard<2.14,>=2.13->tensorflow) (2.31.0)\r\n",
      "Requirement already satisfied: tensorboard-data-server<0.8.0,>=0.7.0 in /home/e189236/MyWork/EVA/ERA1/venv/lib/python3.10/site-packages (from tensorboard<2.14,>=2.13->tensorflow) (0.7.1)\r\n",
      "Requirement already satisfied: werkzeug>=1.0.1 in /home/e189236/MyWork/EVA/ERA1/venv/lib/python3.10/site-packages (from tensorboard<2.14,>=2.13->tensorflow) (2.3.7)\r\n",
      "Requirement already satisfied: cachetools<6.0,>=2.0.0 in /home/e189236/MyWork/EVA/ERA1/venv/lib/python3.10/site-packages (from google-auth<3,>=1.6.3->tensorboard<2.14,>=2.13->tensorflow) (5.3.1)\r\n",
      "Requirement already satisfied: pyasn1-modules>=0.2.1 in /home/e189236/MyWork/EVA/ERA1/venv/lib/python3.10/site-packages (from google-auth<3,>=1.6.3->tensorboard<2.14,>=2.13->tensorflow) (0.3.0)\r\n",
      "Requirement already satisfied: rsa<5,>=3.1.4 in /home/e189236/MyWork/EVA/ERA1/venv/lib/python3.10/site-packages (from google-auth<3,>=1.6.3->tensorboard<2.14,>=2.13->tensorflow) (4.9)\r\n",
      "Requirement already satisfied: urllib3<2.0 in /home/e189236/MyWork/EVA/ERA1/venv/lib/python3.10/site-packages (from google-auth<3,>=1.6.3->tensorboard<2.14,>=2.13->tensorflow) (1.26.16)\r\n",
      "Requirement already satisfied: requests-oauthlib>=0.7.0 in /home/e189236/MyWork/EVA/ERA1/venv/lib/python3.10/site-packages (from google-auth-oauthlib<1.1,>=0.5->tensorboard<2.14,>=2.13->tensorflow) (1.3.1)\r\n",
      "Requirement already satisfied: charset-normalizer<4,>=2 in /home/e189236/MyWork/EVA/ERA1/venv/lib/python3.10/site-packages (from requests<3,>=2.21.0->tensorboard<2.14,>=2.13->tensorflow) (3.1.0)\r\n",
      "Requirement already satisfied: idna<4,>=2.5 in /home/e189236/MyWork/EVA/ERA1/venv/lib/python3.10/site-packages (from requests<3,>=2.21.0->tensorboard<2.14,>=2.13->tensorflow) (3.4)\r\n",
      "Requirement already satisfied: certifi>=2017.4.17 in /home/e189236/MyWork/EVA/ERA1/venv/lib/python3.10/site-packages (from requests<3,>=2.21.0->tensorboard<2.14,>=2.13->tensorflow) (2023.5.7)\r\n",
      "Requirement already satisfied: MarkupSafe>=2.1.1 in /home/e189236/MyWork/EVA/ERA1/venv/lib/python3.10/site-packages (from werkzeug>=1.0.1->tensorboard<2.14,>=2.13->tensorflow) (2.1.3)\r\n",
      "Requirement already satisfied: pyasn1<0.6.0,>=0.4.6 in /home/e189236/MyWork/EVA/ERA1/venv/lib/python3.10/site-packages (from pyasn1-modules>=0.2.1->google-auth<3,>=1.6.3->tensorboard<2.14,>=2.13->tensorflow) (0.5.0)\r\n",
      "Requirement already satisfied: oauthlib>=3.0.0 in /home/e189236/MyWork/EVA/ERA1/venv/lib/python3.10/site-packages (from requests-oauthlib>=0.7.0->google-auth-oauthlib<1.1,>=0.5->tensorboard<2.14,>=2.13->tensorflow) (3.2.2)\r\n",
      "\r\n",
      "\u001b[1m[\u001b[0m\u001b[34;49mnotice\u001b[0m\u001b[1;39;49m]\u001b[0m\u001b[39;49m A new release of pip is available: \u001b[0m\u001b[31;49m23.1.2\u001b[0m\u001b[39;49m -> \u001b[0m\u001b[32;49m23.2.1\u001b[0m\r\n",
      "\u001b[1m[\u001b[0m\u001b[34;49mnotice\u001b[0m\u001b[1;39;49m]\u001b[0m\u001b[39;49m To update, run: \u001b[0m\u001b[32;49mpip install --upgrade pip\u001b[0m\r\n"
     ]
    }
   ],
   "source": [
    "!pip install torchtext\n",
    "# !pip install datasets\n",
    "!pip install transformers\n",
    "!pip install torchmetrics\n",
    "!pip install tensorflow"
   ]
  },
  {
   "cell_type": "code",
   "execution_count": 10,
   "metadata": {
    "ExecuteTime": {
     "end_time": "2023-09-01T09:18:20.930037131Z",
     "start_time": "2023-09-01T09:18:20.926727917Z"
    }
   },
   "outputs": [],
   "source": [
    "from config import get_config\n",
    "cfg = get_config()\n",
    "cfg['batch_size'] = 6\n",
    "# cfg['preload'] = None\n",
    "cfg['num_epochs'] = 10\n"
   ]
  },
  {
   "cell_type": "code",
   "execution_count": 11,
   "metadata": {
    "ExecuteTime": {
     "end_time": "2023-09-01T09:18:20.958071154Z",
     "start_time": "2023-09-01T09:18:20.930763086Z"
    },
    "collapsed": false,
    "jupyter": {
     "outputs_hidden": false
    }
   },
   "outputs": [
    {
     "ename": "ModuleNotFoundError",
     "evalue": "No module named 'torchmetrics'",
     "output_type": "error",
     "traceback": [
      "\u001b[0;31m---------------------------------------------------------------------------\u001b[0m",
      "\u001b[0;31mModuleNotFoundError\u001b[0m                       Traceback (most recent call last)",
      "\u001b[0;32m<ipython-input-11-a2f9716b6210>\u001b[0m in \u001b[0;36m<module>\u001b[0;34m\u001b[0m\n\u001b[0;32m----> 1\u001b[0;31m \u001b[0;32mfrom\u001b[0m \u001b[0mtrain\u001b[0m \u001b[0;32mimport\u001b[0m \u001b[0mtrain_model\u001b[0m\u001b[0;34m\u001b[0m\u001b[0;34m\u001b[0m\u001b[0m\n\u001b[0m\u001b[1;32m      2\u001b[0m \u001b[0mtrain_model\u001b[0m\u001b[0;34m(\u001b[0m\u001b[0mcfg\u001b[0m\u001b[0;34m)\u001b[0m\u001b[0;34m\u001b[0m\u001b[0;34m\u001b[0m\u001b[0m\n",
      "\u001b[0;32m~/MyWork/EVA/ERA1/S15/train.py\u001b[0m in \u001b[0;36m<module>\u001b[0;34m\u001b[0m\n\u001b[1;32m      4\u001b[0m \u001b[0;32mimport\u001b[0m \u001b[0mtorch\u001b[0m\u001b[0;34m\u001b[0m\u001b[0;34m\u001b[0m\u001b[0m\n\u001b[1;32m      5\u001b[0m \u001b[0;32mimport\u001b[0m \u001b[0mtorch\u001b[0m\u001b[0;34m.\u001b[0m\u001b[0mnn\u001b[0m \u001b[0;32mas\u001b[0m \u001b[0mnn\u001b[0m\u001b[0;34m\u001b[0m\u001b[0;34m\u001b[0m\u001b[0m\n\u001b[0;32m----> 6\u001b[0;31m \u001b[0;32mimport\u001b[0m \u001b[0mtorchmetrics\u001b[0m\u001b[0;34m\u001b[0m\u001b[0;34m\u001b[0m\u001b[0m\n\u001b[0m\u001b[1;32m      7\u001b[0m \u001b[0;31m# Huggingface datasets and tokenizers\u001b[0m\u001b[0;34m\u001b[0m\u001b[0;34m\u001b[0m\u001b[0;34m\u001b[0m\u001b[0m\n\u001b[1;32m      8\u001b[0m \u001b[0;32mfrom\u001b[0m \u001b[0mdatasets\u001b[0m \u001b[0;32mimport\u001b[0m \u001b[0mload_dataset\u001b[0m\u001b[0;34m,\u001b[0m \u001b[0mload_from_disk\u001b[0m\u001b[0;34m\u001b[0m\u001b[0;34m\u001b[0m\u001b[0m\n",
      "\u001b[0;31mModuleNotFoundError\u001b[0m: No module named 'torchmetrics'"
     ]
    }
   ],
   "source": [
    "from train import train_model\n",
    "train_model(cfg)"
   ]
  },
  {
   "cell_type": "code",
   "execution_count": null,
   "metadata": {
    "ExecuteTime": {
     "start_time": "2023-09-01T09:18:20.950198874Z"
    },
    "collapsed": false,
    "jupyter": {
     "outputs_hidden": false
    }
   },
   "outputs": [],
   "source": [
    "# !pip install torchtext"
   ]
  },
  {
   "cell_type": "code",
   "execution_count": null,
   "metadata": {
    "ExecuteTime": {
     "start_time": "2023-09-01T09:18:20.952776089Z"
    },
    "collapsed": false,
    "jupyter": {
     "outputs_hidden": false
    }
   },
   "outputs": [],
   "source": []
  }
 ],
 "metadata": {
  "kernelspec": {
   "display_name": "venv",
   "language": "python",
   "name": "venv"
  },
  "language_info": {
   "codemirror_mode": {
    "name": "ipython",
    "version": 3
   },
   "file_extension": ".py",
   "mimetype": "text/x-python",
   "name": "python",
   "nbconvert_exporter": "python",
   "pygments_lexer": "ipython3",
   "version": "3.6.9"
  }
 },
 "nbformat": 4,
 "nbformat_minor": 4
}
