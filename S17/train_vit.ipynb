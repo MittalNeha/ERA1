{
  "cells": [
    {
      "cell_type": "markdown",
      "metadata": {
        "id": "view-in-github",
        "colab_type": "text"
      },
      "source": [
        "<a href=\"https://colab.research.google.com/github/MittalNeha/ERA1/blob/main/S17/train_vit.ipynb\" target=\"_parent\"><img src=\"https://colab.research.google.com/assets/colab-badge.svg\" alt=\"Open In Colab\"/></a>"
      ]
    },
    {
      "cell_type": "code",
      "source": [
        "# !git clone https://github.com/MittalNeha/ERA1.git"
      ],
      "metadata": {
        "id": "PoBZWjIsDgJY"
      },
      "id": "PoBZWjIsDgJY",
      "execution_count": 1,
      "outputs": []
    },
    {
      "cell_type": "code",
      "source": [
        "%cd ERA1/S17"
      ],
      "metadata": {
        "id": "NBv0FEG8Dtgt",
        "outputId": "dbe401a1-decd-4569-decd-33057917c4b7",
        "colab": {
          "base_uri": "https://localhost:8080/"
        }
      },
      "id": "NBv0FEG8Dtgt",
      "execution_count": 2,
      "outputs": [
        {
          "output_type": "stream",
          "name": "stdout",
          "text": [
            "/content/ERA1/S17\n"
          ]
        }
      ]
    },
    {
      "cell_type": "code",
      "source": [
        "# from google.colab import drive\n",
        "# drive.mount('/content/drive')"
      ],
      "metadata": {
        "id": "A6NRTWGPFJ3l"
      },
      "id": "A6NRTWGPFJ3l",
      "execution_count": 3,
      "outputs": []
    },
    {
      "cell_type": "markdown",
      "source": [
        "## Contains the train dataset and some helper code for traning"
      ],
      "metadata": {
        "id": "powXfnqTFwLJ"
      },
      "id": "powXfnqTFwLJ"
    },
    {
      "cell_type": "code",
      "source": [
        "# !cp -r /content/drive/MyDrive/ERA_V1/S17/. ."
      ],
      "metadata": {
        "id": "eneQjudNFU34"
      },
      "id": "eneQjudNFU34",
      "execution_count": 4,
      "outputs": []
    },
    {
      "cell_type": "code",
      "execution_count": 5,
      "id": "initial_id",
      "metadata": {
        "collapsed": true,
        "ExecuteTime": {
          "end_time": "2023-09-15T18:34:09.562642820Z",
          "start_time": "2023-09-15T18:34:07.367447962Z"
        },
        "id": "initial_id"
      },
      "outputs": [],
      "source": [
        "import matplotlib.pyplot as plt\n",
        "import torch\n",
        "import torchvision\n",
        "import os\n",
        "from torchvision import datasets, transforms\n",
        "from torch.utils.data import DataLoader\n",
        "from super_repo import data_setup, engine, utils\n",
        "from ViT import build_ViT"
      ]
    },
    {
      "cell_type": "code",
      "execution_count": 6,
      "outputs": [
        {
          "output_type": "stream",
          "name": "stdout",
          "text": [
            "Manually created transforms: Compose(\n",
            "    Resize(size=(224, 224), interpolation=bilinear, max_size=None, antialias=warn)\n",
            "    ToTensor()\n",
            ")\n",
            "training device:  cuda\n"
          ]
        }
      ],
      "source": [
        "os.environ['KMP_DUPLICATE_LIB_OK'] = 'True'\n",
        "NUM_WORKERS = os.cpu_count()\n",
        "# Set the batch size\n",
        "BATCH_SIZE = 32  # this is lower than the ViT paper but it's because we're starting small\n",
        "\n",
        "image_path = \"./pizza_steak_sushi\"\n",
        "train_dir = image_path + \"/train\"\n",
        "test_dir = image_path + \"/test\"\n",
        "\n",
        "IMG_SIZE = 224\n",
        "\n",
        "# Create transform pipeline manually\n",
        "manual_transforms = transforms.Compose([\n",
        "    transforms.Resize((IMG_SIZE, IMG_SIZE)),\n",
        "    transforms.ToTensor(),\n",
        "])\n",
        "print(f\"Manually created transforms: {manual_transforms}\")\n",
        "\n",
        "device = \"cuda\" if torch.cuda.is_available() else \"cpu\"\n",
        "print(\"training device: \", device)"
      ],
      "metadata": {
        "ExecuteTime": {
          "end_time": "2023-09-15T18:34:09.599185410Z",
          "start_time": "2023-09-15T18:34:09.565695021Z"
        },
        "id": "8207729d13406e1",
        "outputId": "34de18ab-e538-4209-ae5c-653a8c74a595",
        "colab": {
          "base_uri": "https://localhost:8080/"
        }
      },
      "id": "8207729d13406e1"
    },
    {
      "cell_type": "code",
      "execution_count": 7,
      "outputs": [],
      "source": [
        "def create_dataloaders(\n",
        "        train_dir: str,\n",
        "        test_dir: str,\n",
        "        transform: transforms.Compose,\n",
        "        batch_size: int,\n",
        "        num_workers: int = NUM_WORKERS\n",
        "):\n",
        "    # Use ImageFolder to create dataset(s)\n",
        "    train_data = datasets.ImageFolder(train_dir, transform=transform)\n",
        "    test_data = datasets.ImageFolder(test_dir, transform=transform)\n",
        "\n",
        "    # Get class names\n",
        "    class_names = train_data.classes\n",
        "\n",
        "    # Turn images into data loaders\n",
        "    train_dataloader = DataLoader(\n",
        "        train_data,\n",
        "        batch_size=batch_size,\n",
        "        shuffle=True,\n",
        "        num_workers=num_workers,\n",
        "        pin_memory=True,\n",
        "    )\n",
        "    test_dataloader = DataLoader(\n",
        "        test_data,\n",
        "        batch_size=batch_size,\n",
        "        shuffle=False,\n",
        "        num_workers=num_workers,\n",
        "        pin_memory=True,\n",
        "    )\n",
        "\n",
        "    return train_dataloader, test_dataloader, class_names"
      ],
      "metadata": {
        "ExecuteTime": {
          "end_time": "2023-09-15T18:34:09.625205202Z",
          "start_time": "2023-09-15T18:34:09.595967489Z"
        },
        "id": "fbc434592e56c0b9"
      },
      "id": "fbc434592e56c0b9"
    },
    {
      "cell_type": "code",
      "execution_count": 8,
      "outputs": [],
      "source": [
        "train_dataloader, test_dataloader, class_names = create_dataloaders(\n",
        "    train_dir=train_dir,\n",
        "    test_dir=test_dir,\n",
        "    transform=manual_transforms,  # use manually created transforms\n",
        "    batch_size=BATCH_SIZE\n",
        ")"
      ],
      "metadata": {
        "ExecuteTime": {
          "end_time": "2023-09-15T18:34:09.634280528Z",
          "start_time": "2023-09-15T18:34:09.614504425Z"
        },
        "id": "825db09edeb341da"
      },
      "id": "825db09edeb341da"
    },
    {
      "cell_type": "code",
      "execution_count": 9,
      "outputs": [],
      "source": [
        "vit = build_ViT(num_classes=len(class_names))"
      ],
      "metadata": {
        "ExecuteTime": {
          "end_time": "2023-09-15T18:34:10.798681760Z",
          "start_time": "2023-09-15T18:34:09.621092082Z"
        },
        "id": "f80eb688f0df166d"
      },
      "id": "f80eb688f0df166d"
    },
    {
      "cell_type": "code",
      "execution_count": 13,
      "outputs": [
        {
          "output_type": "display_data",
          "data": {
            "text/plain": [
              "  0%|          | 0/10 [00:00<?, ?it/s]"
            ],
            "application/vnd.jupyter.widget-view+json": {
              "version_major": 2,
              "version_minor": 0,
              "model_id": "a38b6cd20d864f66b3d697ed8d579aff"
            }
          },
          "metadata": {}
        },
        {
          "output_type": "stream",
          "name": "stdout",
          "text": [
            "Epoch: 1 | train_loss: 5.1080 | train_acc: 0.2969 | test_loss: 7.3566 | test_acc: 0.2604\n",
            "Epoch: 2 | train_loss: 3.8140 | train_acc: 0.3320 | test_loss: 5.1516 | test_acc: 0.1979\n",
            "Epoch: 3 | train_loss: 2.5621 | train_acc: 0.4336 | test_loss: 2.5879 | test_acc: 0.5417\n",
            "Epoch: 4 | train_loss: 2.7546 | train_acc: 0.2773 | test_loss: 2.8308 | test_acc: 0.2604\n",
            "Epoch: 5 | train_loss: 1.7354 | train_acc: 0.4102 | test_loss: 2.7835 | test_acc: 0.5417\n",
            "Epoch: 6 | train_loss: 1.5746 | train_acc: 0.4141 | test_loss: 2.8134 | test_acc: 0.5417\n",
            "Epoch: 7 | train_loss: 1.5231 | train_acc: 0.4453 | test_loss: 1.7999 | test_acc: 0.2604\n",
            "Epoch: 8 | train_loss: 1.5297 | train_acc: 0.3242 | test_loss: 1.6965 | test_acc: 0.5417\n",
            "Epoch: 9 | train_loss: 1.8020 | train_acc: 0.3867 | test_loss: 2.5582 | test_acc: 0.1979\n",
            "Epoch: 10 | train_loss: 1.4944 | train_acc: 0.2500 | test_loss: 2.4501 | test_acc: 0.1979\n"
          ]
        }
      ],
      "source": [
        "optimizer = torch.optim.Adam(params=vit.parameters(),\n",
        "                             lr=3e-3, # Base LR from Table 3 for ViT-* ImageNet-1k\n",
        "                             betas=(0.9, 0.999), # default values but also mentioned in ViT paper section 4.1 (Training & Fine-tuning)\n",
        "                             weight_decay=0.3) # from the ViT paper section 4.1 (Training & Fine-tuning) and Table 3 for ViT-* ImageNet-1k\n",
        "\n",
        "# Setup the loss function for multi-class classification\n",
        "loss_fn = torch.nn.CrossEntropyLoss()\n",
        "\n",
        "# Train the model and save the training results to a dictionary\n",
        "results = engine.train(model=vit,\n",
        "                       train_dataloader=train_dataloader,\n",
        "                       test_dataloader=test_dataloader,\n",
        "                       optimizer=optimizer,\n",
        "                       loss_fn=loss_fn,\n",
        "                       epochs=10,\n",
        "                       device=torch.device(device))"
      ],
      "metadata": {
        "ExecuteTime": {
          "end_time": "2023-09-15T18:34:14.603551711Z",
          "start_time": "2023-09-15T18:34:10.802898064Z"
        },
        "id": "95f5b299e513f0d9",
        "outputId": "2b2424c5-861e-41f3-ae09-3b4b31a6ea49",
        "colab": {
          "base_uri": "https://localhost:8080/",
          "height": 223,
          "referenced_widgets": [
            "a38b6cd20d864f66b3d697ed8d579aff",
            "d442add6ee5c41d790132767e7f0a13d",
            "c2624f2640f34171833481b57742c7dc",
            "d6666529c7db4485be1064a0e7f8843a",
            "5738d95d41814859bce4c63355f5b27a",
            "dbbac08487924bb68eaddf7160514f7d",
            "a48d0a330d124467abba6d2c8ef1216b",
            "4bd2005576ed46eba5c3857c549f1bd7",
            "2162637bdfe545849afc4a78f21ead7b",
            "3ec6f077b6564abea35f128bad30d310",
            "58a6b974751746aa92ff99be9f41e90b"
          ]
        }
      },
      "id": "95f5b299e513f0d9"
    },
    {
      "cell_type": "code",
      "source": [
        "!pip install -q torchinfo"
      ],
      "metadata": {
        "id": "rwAHSiT5IYI2"
      },
      "id": "rwAHSiT5IYI2",
      "execution_count": 11,
      "outputs": []
    },
    {
      "cell_type": "code",
      "execution_count": 12,
      "outputs": [
        {
          "output_type": "execute_result",
          "data": {
            "text/plain": [
              "======================================================================================================================================================\n",
              "Layer (type (var_name))                                                Input Shape          Output Shape         Param #              Trainable\n",
              "======================================================================================================================================================\n",
              "ViT (ViT)                                                              [32, 3, 224, 224]    [32, 3]              152,064              True\n",
              "├─PatchEmbedding (src_embed)                                           [32, 3, 224, 224]    [32, 196, 768]       --                   True\n",
              "│    └─Conv2d (patcher)                                                [32, 3, 224, 224]    [32, 768, 14, 14]    590,592              True\n",
              "│    └─Flatten (flatten)                                               [32, 768, 14, 14]    [32, 768, 196]       --                   --\n",
              "├─Encoder (encoder)                                                    [32, 197, 768]       [32, 197, 768]       2                    True\n",
              "│    └─ModuleList (layers)                                             --                   --                   --                   True\n",
              "│    │    └─EncoderBlock (0)                                           [32, 197, 768]       [32, 197, 768]       7,081,732            True\n",
              "│    │    └─EncoderBlock (1)                                           [32, 197, 768]       [32, 197, 768]       7,081,732            True\n",
              "│    │    └─EncoderBlock (2)                                           [32, 197, 768]       [32, 197, 768]       7,081,732            True\n",
              "│    │    └─EncoderBlock (3)                                           [32, 197, 768]       [32, 197, 768]       7,081,732            True\n",
              "│    │    └─EncoderBlock (4)                                           [32, 197, 768]       [32, 197, 768]       7,081,732            True\n",
              "│    │    └─EncoderBlock (5)                                           [32, 197, 768]       [32, 197, 768]       7,081,732            True\n",
              "│    │    └─EncoderBlock (6)                                           [32, 197, 768]       [32, 197, 768]       7,081,732            True\n",
              "│    │    └─EncoderBlock (7)                                           [32, 197, 768]       [32, 197, 768]       7,081,732            True\n",
              "│    │    └─EncoderBlock (8)                                           [32, 197, 768]       [32, 197, 768]       7,081,732            True\n",
              "│    │    └─EncoderBlock (9)                                           [32, 197, 768]       [32, 197, 768]       7,081,732            True\n",
              "│    │    └─EncoderBlock (10)                                          [32, 197, 768]       [32, 197, 768]       7,081,732            True\n",
              "│    │    └─EncoderBlock (11)                                          [32, 197, 768]       [32, 197, 768]       7,081,732            True\n",
              "├─Sequential (projection_layer)                                        [32, 768]            [32, 3]              --                   True\n",
              "│    └─LayerNorm (0)                                                   [32, 768]            [32, 768]            1,536                True\n",
              "│    └─Linear (1)                                                      [32, 768]            [32, 3]              2,307                True\n",
              "======================================================================================================================================================\n",
              "Total params: 85,727,285\n",
              "Trainable params: 85,727,285\n",
              "Non-trainable params: 0\n",
              "Total mult-adds (G): 6.42\n",
              "======================================================================================================================================================\n",
              "Input size (MB): 19.27\n",
              "Forward/backward pass size (MB): 5151.33\n",
              "Params size (MB): 342.30\n",
              "Estimated Total Size (MB): 5512.90\n",
              "======================================================================================================================================================"
            ]
          },
          "metadata": {},
          "execution_count": 12
        }
      ],
      "source": [
        "from torchinfo import summary\n",
        "summary(model=vit,\n",
        "        input_size=(32, 3, 224, 224), # (batch_size, color_channels, height, width)\n",
        "        # col_names=[\"input_size\"], # uncomment for smaller output\n",
        "        col_names=[\"input_size\", \"output_size\", \"num_params\", \"trainable\"],\n",
        "        col_width=20,\n",
        "        row_settings=[\"var_names\"]\n",
        ")"
      ],
      "metadata": {
        "ExecuteTime": {
          "end_time": "2023-09-15T18:34:14.605279572Z",
          "start_time": "2023-09-15T18:34:14.605064976Z"
        },
        "id": "9c00f02257b4e3a9",
        "outputId": "ab775fa0-0ae9-4c88-95b6-40c50e56c0cc",
        "colab": {
          "base_uri": "https://localhost:8080/"
        }
      },
      "id": "9c00f02257b4e3a9"
    },
    {
      "cell_type": "code",
      "source": [],
      "metadata": {
        "id": "PAAYj3PrIbj2"
      },
      "id": "PAAYj3PrIbj2",
      "execution_count": 12,
      "outputs": []
    }
  ],
  "metadata": {
    "kernelspec": {
      "display_name": "Python 3",
      "name": "python3"
    },
    "language_info": {
      "codemirror_mode": {
        "name": "ipython",
        "version": 2
      },
      "file_extension": ".py",
      "mimetype": "text/x-python",
      "name": "python",
      "nbconvert_exporter": "python",
      "pygments_lexer": "ipython2",
      "version": "2.7.6"
    },
    "colab": {
      "provenance": [],
      "gpuType": "T4",
      "include_colab_link": true
    },
    "accelerator": "GPU",
    "widgets": {
      "application/vnd.jupyter.widget-state+json": {
        "a38b6cd20d864f66b3d697ed8d579aff": {
          "model_module": "@jupyter-widgets/controls",
          "model_name": "HBoxModel",
          "model_module_version": "1.5.0",
          "state": {
            "_dom_classes": [],
            "_model_module": "@jupyter-widgets/controls",
            "_model_module_version": "1.5.0",
            "_model_name": "HBoxModel",
            "_view_count": null,
            "_view_module": "@jupyter-widgets/controls",
            "_view_module_version": "1.5.0",
            "_view_name": "HBoxView",
            "box_style": "",
            "children": [
              "IPY_MODEL_d442add6ee5c41d790132767e7f0a13d",
              "IPY_MODEL_c2624f2640f34171833481b57742c7dc",
              "IPY_MODEL_d6666529c7db4485be1064a0e7f8843a"
            ],
            "layout": "IPY_MODEL_5738d95d41814859bce4c63355f5b27a"
          }
        },
        "d442add6ee5c41d790132767e7f0a13d": {
          "model_module": "@jupyter-widgets/controls",
          "model_name": "HTMLModel",
          "model_module_version": "1.5.0",
          "state": {
            "_dom_classes": [],
            "_model_module": "@jupyter-widgets/controls",
            "_model_module_version": "1.5.0",
            "_model_name": "HTMLModel",
            "_view_count": null,
            "_view_module": "@jupyter-widgets/controls",
            "_view_module_version": "1.5.0",
            "_view_name": "HTMLView",
            "description": "",
            "description_tooltip": null,
            "layout": "IPY_MODEL_dbbac08487924bb68eaddf7160514f7d",
            "placeholder": "​",
            "style": "IPY_MODEL_a48d0a330d124467abba6d2c8ef1216b",
            "value": "100%"
          }
        },
        "c2624f2640f34171833481b57742c7dc": {
          "model_module": "@jupyter-widgets/controls",
          "model_name": "FloatProgressModel",
          "model_module_version": "1.5.0",
          "state": {
            "_dom_classes": [],
            "_model_module": "@jupyter-widgets/controls",
            "_model_module_version": "1.5.0",
            "_model_name": "FloatProgressModel",
            "_view_count": null,
            "_view_module": "@jupyter-widgets/controls",
            "_view_module_version": "1.5.0",
            "_view_name": "ProgressView",
            "bar_style": "success",
            "description": "",
            "description_tooltip": null,
            "layout": "IPY_MODEL_4bd2005576ed46eba5c3857c549f1bd7",
            "max": 10,
            "min": 0,
            "orientation": "horizontal",
            "style": "IPY_MODEL_2162637bdfe545849afc4a78f21ead7b",
            "value": 10
          }
        },
        "d6666529c7db4485be1064a0e7f8843a": {
          "model_module": "@jupyter-widgets/controls",
          "model_name": "HTMLModel",
          "model_module_version": "1.5.0",
          "state": {
            "_dom_classes": [],
            "_model_module": "@jupyter-widgets/controls",
            "_model_module_version": "1.5.0",
            "_model_name": "HTMLModel",
            "_view_count": null,
            "_view_module": "@jupyter-widgets/controls",
            "_view_module_version": "1.5.0",
            "_view_name": "HTMLView",
            "description": "",
            "description_tooltip": null,
            "layout": "IPY_MODEL_3ec6f077b6564abea35f128bad30d310",
            "placeholder": "​",
            "style": "IPY_MODEL_58a6b974751746aa92ff99be9f41e90b",
            "value": " 10/10 [01:34&lt;00:00,  9.58s/it]"
          }
        },
        "5738d95d41814859bce4c63355f5b27a": {
          "model_module": "@jupyter-widgets/base",
          "model_name": "LayoutModel",
          "model_module_version": "1.2.0",
          "state": {
            "_model_module": "@jupyter-widgets/base",
            "_model_module_version": "1.2.0",
            "_model_name": "LayoutModel",
            "_view_count": null,
            "_view_module": "@jupyter-widgets/base",
            "_view_module_version": "1.2.0",
            "_view_name": "LayoutView",
            "align_content": null,
            "align_items": null,
            "align_self": null,
            "border": null,
            "bottom": null,
            "display": null,
            "flex": null,
            "flex_flow": null,
            "grid_area": null,
            "grid_auto_columns": null,
            "grid_auto_flow": null,
            "grid_auto_rows": null,
            "grid_column": null,
            "grid_gap": null,
            "grid_row": null,
            "grid_template_areas": null,
            "grid_template_columns": null,
            "grid_template_rows": null,
            "height": null,
            "justify_content": null,
            "justify_items": null,
            "left": null,
            "margin": null,
            "max_height": null,
            "max_width": null,
            "min_height": null,
            "min_width": null,
            "object_fit": null,
            "object_position": null,
            "order": null,
            "overflow": null,
            "overflow_x": null,
            "overflow_y": null,
            "padding": null,
            "right": null,
            "top": null,
            "visibility": null,
            "width": null
          }
        },
        "dbbac08487924bb68eaddf7160514f7d": {
          "model_module": "@jupyter-widgets/base",
          "model_name": "LayoutModel",
          "model_module_version": "1.2.0",
          "state": {
            "_model_module": "@jupyter-widgets/base",
            "_model_module_version": "1.2.0",
            "_model_name": "LayoutModel",
            "_view_count": null,
            "_view_module": "@jupyter-widgets/base",
            "_view_module_version": "1.2.0",
            "_view_name": "LayoutView",
            "align_content": null,
            "align_items": null,
            "align_self": null,
            "border": null,
            "bottom": null,
            "display": null,
            "flex": null,
            "flex_flow": null,
            "grid_area": null,
            "grid_auto_columns": null,
            "grid_auto_flow": null,
            "grid_auto_rows": null,
            "grid_column": null,
            "grid_gap": null,
            "grid_row": null,
            "grid_template_areas": null,
            "grid_template_columns": null,
            "grid_template_rows": null,
            "height": null,
            "justify_content": null,
            "justify_items": null,
            "left": null,
            "margin": null,
            "max_height": null,
            "max_width": null,
            "min_height": null,
            "min_width": null,
            "object_fit": null,
            "object_position": null,
            "order": null,
            "overflow": null,
            "overflow_x": null,
            "overflow_y": null,
            "padding": null,
            "right": null,
            "top": null,
            "visibility": null,
            "width": null
          }
        },
        "a48d0a330d124467abba6d2c8ef1216b": {
          "model_module": "@jupyter-widgets/controls",
          "model_name": "DescriptionStyleModel",
          "model_module_version": "1.5.0",
          "state": {
            "_model_module": "@jupyter-widgets/controls",
            "_model_module_version": "1.5.0",
            "_model_name": "DescriptionStyleModel",
            "_view_count": null,
            "_view_module": "@jupyter-widgets/base",
            "_view_module_version": "1.2.0",
            "_view_name": "StyleView",
            "description_width": ""
          }
        },
        "4bd2005576ed46eba5c3857c549f1bd7": {
          "model_module": "@jupyter-widgets/base",
          "model_name": "LayoutModel",
          "model_module_version": "1.2.0",
          "state": {
            "_model_module": "@jupyter-widgets/base",
            "_model_module_version": "1.2.0",
            "_model_name": "LayoutModel",
            "_view_count": null,
            "_view_module": "@jupyter-widgets/base",
            "_view_module_version": "1.2.0",
            "_view_name": "LayoutView",
            "align_content": null,
            "align_items": null,
            "align_self": null,
            "border": null,
            "bottom": null,
            "display": null,
            "flex": null,
            "flex_flow": null,
            "grid_area": null,
            "grid_auto_columns": null,
            "grid_auto_flow": null,
            "grid_auto_rows": null,
            "grid_column": null,
            "grid_gap": null,
            "grid_row": null,
            "grid_template_areas": null,
            "grid_template_columns": null,
            "grid_template_rows": null,
            "height": null,
            "justify_content": null,
            "justify_items": null,
            "left": null,
            "margin": null,
            "max_height": null,
            "max_width": null,
            "min_height": null,
            "min_width": null,
            "object_fit": null,
            "object_position": null,
            "order": null,
            "overflow": null,
            "overflow_x": null,
            "overflow_y": null,
            "padding": null,
            "right": null,
            "top": null,
            "visibility": null,
            "width": null
          }
        },
        "2162637bdfe545849afc4a78f21ead7b": {
          "model_module": "@jupyter-widgets/controls",
          "model_name": "ProgressStyleModel",
          "model_module_version": "1.5.0",
          "state": {
            "_model_module": "@jupyter-widgets/controls",
            "_model_module_version": "1.5.0",
            "_model_name": "ProgressStyleModel",
            "_view_count": null,
            "_view_module": "@jupyter-widgets/base",
            "_view_module_version": "1.2.0",
            "_view_name": "StyleView",
            "bar_color": null,
            "description_width": ""
          }
        },
        "3ec6f077b6564abea35f128bad30d310": {
          "model_module": "@jupyter-widgets/base",
          "model_name": "LayoutModel",
          "model_module_version": "1.2.0",
          "state": {
            "_model_module": "@jupyter-widgets/base",
            "_model_module_version": "1.2.0",
            "_model_name": "LayoutModel",
            "_view_count": null,
            "_view_module": "@jupyter-widgets/base",
            "_view_module_version": "1.2.0",
            "_view_name": "LayoutView",
            "align_content": null,
            "align_items": null,
            "align_self": null,
            "border": null,
            "bottom": null,
            "display": null,
            "flex": null,
            "flex_flow": null,
            "grid_area": null,
            "grid_auto_columns": null,
            "grid_auto_flow": null,
            "grid_auto_rows": null,
            "grid_column": null,
            "grid_gap": null,
            "grid_row": null,
            "grid_template_areas": null,
            "grid_template_columns": null,
            "grid_template_rows": null,
            "height": null,
            "justify_content": null,
            "justify_items": null,
            "left": null,
            "margin": null,
            "max_height": null,
            "max_width": null,
            "min_height": null,
            "min_width": null,
            "object_fit": null,
            "object_position": null,
            "order": null,
            "overflow": null,
            "overflow_x": null,
            "overflow_y": null,
            "padding": null,
            "right": null,
            "top": null,
            "visibility": null,
            "width": null
          }
        },
        "58a6b974751746aa92ff99be9f41e90b": {
          "model_module": "@jupyter-widgets/controls",
          "model_name": "DescriptionStyleModel",
          "model_module_version": "1.5.0",
          "state": {
            "_model_module": "@jupyter-widgets/controls",
            "_model_module_version": "1.5.0",
            "_model_name": "DescriptionStyleModel",
            "_view_count": null,
            "_view_module": "@jupyter-widgets/base",
            "_view_module_version": "1.2.0",
            "_view_name": "StyleView",
            "description_width": ""
          }
        }
      }
    }
  },
  "nbformat": 4,
  "nbformat_minor": 5
}